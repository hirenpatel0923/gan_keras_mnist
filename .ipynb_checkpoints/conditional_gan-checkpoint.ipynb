{
 "cells": [
  {
   "cell_type": "code",
   "execution_count": null,
   "metadata": {},
   "outputs": [],
   "source": [
    "import numpy as np\n",
    "import keras as K\n",
    "from keras.utils.data_utils import OrderedEnqueuer\n",
    "from keras.datasets import mnist\n",
    "from keras.models import Model, Sequential\n",
    "from keras.layers import Input, Dense, Dropout\n",
    "from keras.layers.advanced_activations import LeakyReLU\n",
    "from keras.optimizers import Adam, RMSprop\n",
    "import matplotlib.pyplot as plt\n",
    "import random\n",
    "\n",
    "from data_generator import DataGenerator"
   ]
  },
  {
   "cell_type": "code",
   "execution_count": null,
   "metadata": {},
   "outputs": [],
   "source": [
    "x_train_len = 60000\n",
    "x_test_len = 10000\n",
    "\n",
    "x_train_indexes = [i for i in range(x_train_len)]\n",
    "x_test_indexes = [i for i in range(x_test_len)]\n",
    "\n",
    "train_params = {'dim': 784,\n",
    "                'batch_size': 128,\n",
    "                'n_classes': 10,\n",
    "                'shuffle': True}\n",
    "\n",
    "TrainGenerator = DataGenerator(x_train_indexes, dataset='train', **train_params)\n",
    "TestGenerator = DataGenerator(x_train_indexes, dataset='train', **train_params)"
   ]
  },
  {
   "cell_type": "code",
   "execution_count": null,
   "metadata": {},
   "outputs": [],
   "source": [
    "def plot_loss(losses):\n",
    "    \"\"\"\n",
    "    @losses.keys():\n",
    "        0: loss\n",
    "        1: accuracy\n",
    "    \"\"\"\n",
    "    d_loss = [v[0] for v in losses[\"D\"]]\n",
    "    g_loss = [v[0] for v in losses[\"G\"]]\n",
    "    #d_acc = [v[1] for v in losses[\"D\"]]\n",
    "    #g_acc = [v[1] for v in losses[\"G\"]]\n",
    "    \n",
    "    plt.figure(figsize=(10,8))\n",
    "    plt.plot(d_loss, label=\"Discriminator loss\")\n",
    "    plt.plot(g_loss, label=\"Generator loss\")\n",
    "    #plt.plot(d_acc, label=\"Discriminator accuracy\")\n",
    "    #plt.plot(g_acc, label=\"Generator accuracy\")\n",
    "    plt.xlabel('Epochs')\n",
    "    plt.ylabel('Loss')\n",
    "    plt.legend()\n",
    "    plt.show()\n",
    "    \n",
    "def plot_generated(n_ex=10, dim=(1, 10), figsize=(12, 2)):\n",
    "    noise = np.random.normal(0, 1, size=(n_ex, z_dim))\n",
    "    generated_images = generator.predict(noise)\n",
    "    generated_images = generated_images.reshape(n_ex, 28, 28)\n",
    "\n",
    "    plt.figure(figsize=figsize)\n",
    "    for i in range(generated_images.shape[0]):\n",
    "        plt.subplot(dim[0], dim[1], i+1)\n",
    "        plt.imshow(generated_images[i], interpolation='nearest', cmap='gray_r')\n",
    "        plt.axis('off')\n",
    "    plt.tight_layout()\n",
    "    plt.show()"
   ]
  },
  {
   "cell_type": "code",
   "execution_count": null,
   "metadata": {},
   "outputs": [],
   "source": [
    "x_dim = 784\n",
    "z_dim = 100\n",
    "y_dim = 10\n",
    "\n",
    "adam = Adam(lr=0.0002, beta_1=0.5)\n",
    "\n",
    "#generator model\n",
    "g_input = Input(shape=((z_dim + y_dim),)) \n",
    "g = Dense(256, activation=LeakyReLU(alpha=0.2))(g_input)\n",
    "g = Dense(512, activation=LeakyReLU(alpha=0.2))(g)\n",
    "g = Dense(1024, activation=LeakyReLU(alpha=0.2))(g)\n",
    "g = Dense(784, activation='sigmoid')(g)\n",
    "generator = Model(g_input, g)\n",
    "generator.compile(loss='binary_crossentropy',\n",
    "                  optimizer=adam,\n",
    "                  metrics=['accuracy'])"
   ]
  },
  {
   "cell_type": "code",
   "execution_count": null,
   "metadata": {},
   "outputs": [],
   "source": [
    "#discriminator model\n",
    "d_input = Input(shape=((x_dim + y_dim),))\n",
    "d = Dense(1024, activation=LeakyReLU(alpha=0.2))(d_input)\n",
    "d = Dropout(0.3)(d)\n",
    "d = Dense(512, activation=LeakyReLU(alpha=0.2))(d)\n",
    "d = Dropout(0.3)(d)\n",
    "d = Dense(256, activation=LeakyReLU(alpha=0.2))(d)\n",
    "d = Dropout(0.3)(d)\n",
    "d = Dense(1, activation='sigmoid')(d)\n",
    "descriminator = Model(d_input, d)\n",
    "descriminator.compile(loss='binary_crossentropy',\n",
    "                      optimizer=adam,\n",
    "                      metrics=['accuracy'])"
   ]
  },
  {
   "cell_type": "code",
   "execution_count": null,
   "metadata": {},
   "outputs": [],
   "source": [
    "#gan model\n",
    "descriminator.trainable = False\n",
    "gan_input = Input(shape=(z_dim, ))\n",
    "generated_image = generator(gan_input)\n",
    "output = descriminator(generated_image)\n",
    "GAN = Model(gan_input, output)\n",
    "GAN.compile(loss='binary_crossentropy',\n",
    "            optimizer=adam,\n",
    "            metrics=['accuracy'])"
   ]
  },
  {
   "cell_type": "code",
   "execution_count": null,
   "metadata": {},
   "outputs": [],
   "source": [
    "losses = {\"D\":[], \"G\":[]}\n",
    "epochs = 200\n",
    "steps_per_epoch = np.floor(x_train_len/train_params['batch_size'])"
   ]
  },
  {
   "cell_type": "code",
   "execution_count": null,
   "metadata": {},
   "outputs": [],
   "source": [
    "#training process\n",
    "orderedEnqueuer = OrderedEnqueuer(TrainGenerator)"
   ]
  }
 ],
 "metadata": {
  "kernelspec": {
   "display_name": "Python 3",
   "language": "python",
   "name": "python3"
  },
  "language_info": {
   "codemirror_mode": {
    "name": "ipython",
    "version": 3
   },
   "file_extension": ".py",
   "mimetype": "text/x-python",
   "name": "python",
   "nbconvert_exporter": "python",
   "pygments_lexer": "ipython3",
   "version": "3.6.7"
  }
 },
 "nbformat": 4,
 "nbformat_minor": 2
}
